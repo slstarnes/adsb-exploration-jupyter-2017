{
 "cells": [
  {
   "cell_type": "markdown",
   "metadata": {
    "ExecuteTime": {
     "end_time": "2017-11-11T01:24:21.717424Z",
     "start_time": "2017-11-11T01:20:38.116647Z"
    },
    "slideshow": {
     "slide_type": "skip"
    }
   },
   "source": [
    "### To run presentation, run this from terminal:\n",
    "`jupyter nbconvert \"Open Flight Data.ipynb\" --to slides --post serve`"
   ]
  },
  {
   "cell_type": "markdown",
   "metadata": {
    "slideshow": {
     "slide_type": "slide"
    }
   },
   "source": [
    "# Open Flight Data in the Notebook\n",
    " \n",
    "## Luke Starnes | @slstarnes | lstarnes.com"
   ]
  },
  {
   "cell_type": "markdown",
   "metadata": {
    "slideshow": {
     "slide_type": "slide"
    }
   },
   "source": [
    "# Before we start..."
   ]
  },
  {
   "cell_type": "markdown",
   "metadata": {
    "slideshow": {
     "slide_type": "fragment"
    }
   },
   "source": [
    "## Mr. Jupiter Jude\n",
    "![Jupe](pics/jupe1.png)"
   ]
  },
  {
   "cell_type": "markdown",
   "metadata": {
    "slideshow": {
     "slide_type": "slide"
    }
   },
   "source": [
    "# Automatic Dependent Surveillance—Broadcast (ADS–B)\n",
    "* ADS-B mandated in US starting Jan 1, 2020\n",
    "     * Europe’s mandate begins January 1, 2019\n",
    "* Mandated about 10k’ and around airports or out Gulf of Mexico\n",
    "* ADSB operates at either \n",
    "    * 1090 MHz or 978 MHz (US Only)\n",
    "![Air Space](pics/air_space.png) \n",
    "![Air Space](pics/air_space2.jpg) "
   ]
  },
  {
   "cell_type": "markdown",
   "metadata": {
    "slideshow": {
     "slide_type": "slide"
    }
   },
   "source": [
    "# Growth of ADSB has led to growth of Open Flight Data\n",
    "\n",
    "### ADSB + MLAT (Mode S) + ATC Radar\n",
    "### Sites taking advantage:\n",
    "* https://www.flightradar24.com\n",
    "* https://flightaware.com\n",
    "* https://planefinder.net\n",
    "* https://www.adsbexchange.com"
   ]
  },
  {
   "cell_type": "markdown",
   "metadata": {
    "slideshow": {
     "slide_type": "slide"
    }
   },
   "source": [
    "# Example Live View\n",
    "![Plane Finder](pics/planefinder.png) \n",
    "from https://planefinder.net"
   ]
  },
  {
   "cell_type": "markdown",
   "metadata": {
    "slideshow": {
     "slide_type": "slide"
    }
   },
   "source": [
    "# Open Flight Data -- In the News"
   ]
  },
  {
   "cell_type": "markdown",
   "metadata": {
    "slideshow": {
     "slide_type": "slide"
    }
   },
   "source": [
    "## Quatari Sanctions\n",
    "![Quatar Flights](pics/Qatari_flights.png) \n",
    "![Quatar Air Space](pics/quatar_air_space.jpg) "
   ]
  },
  {
   "cell_type": "markdown",
   "metadata": {
    "slideshow": {
     "slide_type": "slide"
    }
   },
   "source": [
    "## Loitering Planes\n",
    "* https://www.buzzfeed.com/peteraldhous/spies-in-the-skies\n",
    "* https://www.buzzfeed.com/peteraldhous/hidden-spy-planes\n",
    "* https://www.buzzfeed.com/christianstork/spy-planes-over-american-cities\n",
    "\n",
    "![Buzz](pics/buzz.png) \n",
    "![Buzz2](pics/buzz2.png) \n",
    "![Buzz3](pics/buzz3.png) \n",
    "![Buzz4](pics/OK_city.png) \n",
    "![Buzz5](pics/US_mex_border.png)"
   ]
  },
  {
   "cell_type": "markdown",
   "metadata": {
    "slideshow": {
     "slide_type": "slide"
    }
   },
   "source": [
    "## Hudson River\n",
    "![Hudson](pics/hudson.png)"
   ]
  },
  {
   "cell_type": "markdown",
   "metadata": {
    "collapsed": true,
    "slideshow": {
     "slide_type": "slide"
    }
   },
   "source": [
    "## Flight Path Art -- Dreamliner drawing a Dreamliner\n",
    "On 02 Aug, 2017, Boeing 787-8 Dreamliner N7874\n",
    "At 15:38 local time N7874 departed Boeing Field in Seattle for an 18-hour, 22 state test flight. The crew spent the overnight hours above the United States performing Extended Operations (ETOPS) testing on the new Rolls Royce Trent 1000 TEN engine. \n",
    "![Dreamliner](pics/Dreamliner_hq.png)"
   ]
  },
  {
   "cell_type": "markdown",
   "metadata": {
    "collapsed": true,
    "slideshow": {
     "slide_type": "slide"
    }
   },
   "source": [
    "## Flight Path Art -- Hello\n",
    "37-minute flight over the Niedersachsen region of German\n",
    "![Dreamliner](pics/hello.jpg)"
   ]
  },
  {
   "cell_type": "markdown",
   "metadata": {
    "slideshow": {
     "slide_type": "slide"
    }
   },
   "source": [
    "## Flight Path Art -- Airplane\n",
    "![Plane](pics/plane_in_path.jpg)"
   ]
  },
  {
   "cell_type": "markdown",
   "metadata": {
    "collapsed": true,
    "slideshow": {
     "slide_type": "slide"
    }
   },
   "source": [
    "## Flight Path Art -- Malta Love\n",
    "![Malta](pics/malta.png)"
   ]
  },
  {
   "cell_type": "markdown",
   "metadata": {
    "slideshow": {
     "slide_type": "slide"
    }
   },
   "source": [
    "## Flight Path Art -- Something Different\n",
    "![Auckland](pics/auckland.png)"
   ]
  },
  {
   "cell_type": "markdown",
   "metadata": {
    "slideshow": {
     "slide_type": "slide"
    }
   },
   "source": [
    "# Data Gathering"
   ]
  },
  {
   "cell_type": "markdown",
   "metadata": {
    "slideshow": {
     "slide_type": "slide"
    }
   },
   "source": [
    "![ADSB Exchange](pics/adsb_exchange.png)\n",
    "![Info](pics/adsb_exchange_data_info.png)\n",
    "![Info 2](pics/adsb_exchange_data_info2.png)"
   ]
  },
  {
   "cell_type": "markdown",
   "metadata": {
    "ExecuteTime": {
     "end_time": "2017-11-11T02:15:32.856567Z",
     "start_time": "2017-11-11T02:15:32.734572Z"
    },
    "collapsed": true,
    "slideshow": {
     "slide_type": "slide"
    }
   },
   "source": [
    "* Grabbed 245 days of data\n",
    "    * ~540 GB\n",
    "* Each day is 1 zip file containing 1440 json files\n",
    "* Uncompressed this is ~10.9 GB per day\n",
    "\n",
    "Process\n",
    "![ADSB Exchange](pics/data_prep.png)"
   ]
  },
  {
   "cell_type": "markdown",
   "metadata": {},
   "source": []
  },
  {
   "cell_type": "code",
   "execution_count": null,
   "metadata": {
    "collapsed": true
   },
   "outputs": [],
   "source": []
  },
  {
   "cell_type": "code",
   "execution_count": null,
   "metadata": {
    "collapsed": true
   },
   "outputs": [],
   "source": []
  },
  {
   "cell_type": "code",
   "execution_count": null,
   "metadata": {
    "collapsed": true
   },
   "outputs": [],
   "source": []
  }
 ],
 "metadata": {
  "celltoolbar": "Slideshow",
  "kernelspec": {
   "display_name": "Python 3",
   "language": "python",
   "name": "python3"
  },
  "language_info": {
   "codemirror_mode": {
    "name": "ipython",
    "version": 3
   },
   "file_extension": ".py",
   "mimetype": "text/x-python",
   "name": "python",
   "nbconvert_exporter": "python",
   "pygments_lexer": "ipython3",
   "version": "3.6.1"
  }
 },
 "nbformat": 4,
 "nbformat_minor": 2
}
