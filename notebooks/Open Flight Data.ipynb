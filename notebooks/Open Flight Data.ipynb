{
 "cells": [
  {
   "cell_type": "markdown",
   "metadata": {},
   "source": [
    "# Open Flight Data in the Notebook"
   ]
  },
  {
   "attachments": {},
   "cell_type": "markdown",
   "metadata": {},
   "source": [
    "Luke Starnes\n",
    "@slstarnes\n",
    "lstarnes.com"
   ]
  },
  {
   "attachments": {},
   "cell_type": "markdown",
   "metadata": {},
   "source": [
    "## Automatic Dependent Surveillance—Broadcast (ADS–B)\n",
    "* ADS-B mandated in US starting Jan 1, 2020\n",
    "     * Europe’s mandate begins January 1, 2019\n",
    "* Mandated about 10k’ and around airports or out Gulf of Mexico\n",
    "* ADSB operates at either \n",
    "    * 1090 MHz or 978 MHz (US Only)\n",
    "![Air Space](pics/air_space.png) ![Air Space](pics/air_space2.jpg) "
   ]
  },
  {
   "cell_type": "markdown",
   "metadata": {},
   "source": [
    "ADSB + MLAT (Mode S) + ATC Radar\n",
    "\n",
    "Sites doing this...\n",
    "flight radar, etc."
   ]
  },
  {
   "cell_type": "markdown",
   "metadata": {},
   "source": [
    "## Open Flight Data -- In the News"
   ]
  },
  {
   "cell_type": "markdown",
   "metadata": {},
   "source": [
    "### ME Trouble"
   ]
  },
  {
   "cell_type": "markdown",
   "metadata": {},
   "source": [
    "### Loitering Planes\n",
    "https://www.buzzfeed.com/peteraldhous/spies-in-the-skies\n",
    "https://www.buzzfeed.com/peteraldhous/hidden-spy-planes\n",
    "https://www.buzzfeed.com/christianstork/spy-planes-over-american-cities"
   ]
  },
  {
   "cell_type": "code",
   "execution_count": null,
   "metadata": {
    "collapsed": true
   },
   "outputs": [],
   "source": []
  },
  {
   "cell_type": "code",
   "execution_count": null,
   "metadata": {
    "collapsed": true
   },
   "outputs": [],
   "source": []
  },
  {
   "cell_type": "markdown",
   "metadata": {},
   "source": [
    "## Dreamliner\n",
    "02 Aug, 2017, Boeing flight, From BFI to BFI on N7874, Boeing 787-8 Dreamliner N7874, Dreamliner drawing a Dreamliner\n",
    "At 15:38 local time N7874, the fourth 787 built, departed Boeing Field in Seattle for an 18-hour, 22 state test flight. The crew spent the overnight hours above the United States performing ETOPS testing on the new Rolls Royce Trent 1000 TEN engine, which will power the 787-10. --     ETOPS (Extended Operations) "
   ]
  },
  {
   "cell_type": "code",
   "execution_count": null,
   "metadata": {
    "collapsed": true
   },
   "outputs": [],
   "source": []
  },
  {
   "cell_type": "markdown",
   "metadata": {},
   "source": [
    "### Hello\n",
    "http://www.cnn.com/2016/12/02/europe/pilot-spells-hello-flight-tracking-map/index.html"
   ]
  },
  {
   "cell_type": "code",
   "execution_count": null,
   "metadata": {
    "collapsed": true
   },
   "outputs": [],
   "source": []
  },
  {
   "cell_type": "code",
   "execution_count": null,
   "metadata": {
    "collapsed": true
   },
   "outputs": [],
   "source": []
  },
  {
   "attachments": {},
   "cell_type": "markdown",
   "metadata": {},
   "source": [
    "## Data Gathering\n",
    "\n",
    "Grabbed 245 days of data\n",
    "~540 GB\n",
    "Each day is 1 zip file containing 1440 json files\n",
    "Uncompressed this is ~10.9 GB per day"
   ]
  },
  {
   "cell_type": "markdown",
   "metadata": {},
   "source": [
    "![ADSB Exchange](pics/adsb_exchange.png)"
   ]
  },
  {
   "cell_type": "code",
   "execution_count": null,
   "metadata": {
    "collapsed": true
   },
   "outputs": [],
   "source": []
  },
  {
   "cell_type": "markdown",
   "metadata": {},
   "source": []
  },
  {
   "cell_type": "code",
   "execution_count": null,
   "metadata": {
    "collapsed": true
   },
   "outputs": [],
   "source": []
  },
  {
   "cell_type": "code",
   "execution_count": null,
   "metadata": {
    "collapsed": true
   },
   "outputs": [],
   "source": []
  },
  {
   "cell_type": "code",
   "execution_count": null,
   "metadata": {
    "collapsed": true
   },
   "outputs": [],
   "source": []
  }
 ],
 "metadata": {
  "kernelspec": {
   "display_name": "Python 3",
   "language": "python",
   "name": "python3"
  },
  "language_info": {
   "codemirror_mode": {
    "name": "ipython",
    "version": 3
   },
   "file_extension": ".py",
   "mimetype": "text/x-python",
   "name": "python",
   "nbconvert_exporter": "python",
   "pygments_lexer": "ipython3",
   "version": "3.6.1"
  }
 },
 "nbformat": 4,
 "nbformat_minor": 2
}
